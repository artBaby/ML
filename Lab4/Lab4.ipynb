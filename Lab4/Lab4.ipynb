{
 "cells": [
  {
   "cell_type": "code",
   "execution_count": null,
   "metadata": {},
   "outputs": [],
   "source": [
    "from sklearn.model_selection import train_test_split\n",
    "import numpy as np\n",
    "import pandas as pd\n",
    "import matplotlib.pyplot as plt\n",
    "from sklearn import metrics\n",
    "from sklearn import preprocessing\n",
    "from sklearn.svm import SVC\n",
    "\n",
    "#download and parse dataset\n",
    "def split_data():\n",
    "    dataset = pd.read_csv('data.csv', header=None).values\n",
    "    occ_attr = dataset[:, 1:]\n",
    "    occ_class = dataset[:, 0]\n",
    "    occ_class = occ_class.astype(np.float)\n",
    "    occ_attr = occ_attr.astype(np.float)\n",
    "    return occ_attr, occ_class\n",
    "\n",
    "def plotsDraw(X, y, svc, a):\n",
    "    # create grid \n",
    "    x_min, x_max = X[:, 0].min() - 1, X[:, 0].max() + 1\n",
    "    y_min, y_max = X[:, 1].min() - 1, X[:, 1].max() + 1\n",
    "    xx, yy = np.meshgrid(np.arange(x_min, x_max),\n",
    "    np.arange(y_min, y_max))\n",
    "    Z = svc.predict(np.c_[xx.ravel(), yy.ravel()])\n",
    "    Z = Z.reshape(xx.shape)\n",
    "    a.contourf(xx, yy, Z, cmap=plt.cm.plasma, alpha=0.8) \n",
    "    a.scatter(X[:, 0], X[:, 1], c=y, cmap=plt.cm.Paired)\n",
    "    \n",
    "    # SVM call\n",
    "def SVMUse(occ_attr, occ_class, kernel, C, gamma):\n",
    "    data_train, data_test, class_train, class_test = train_test_split(occ_attr, occ_class, test_size=0.30, random_state=123)\n",
    "    std_train_x, std_train_y = standard_transform(data_train, class_train)\n",
    "    std_test_x, std_test_y = standard_transform(data_test, class_test)\n",
    "    svc_train = SVC(kernel=kernel, C=C, gamma=gamma).fit(std_train_x, std_train_y)\n",
    "    print('SVC: kernel = '+kernel+' C = '+str(C)+' gamma = '+str(gamma))\n",
    "    pred_test = svc_train.predict(std_test_x)\n",
    "    print('{:.2%}'.format(metrics.accuracy_score(std_test_y, pred_test)))\n",
    "    print('\\n')\n",
    "    \n",
    "    #scale data\n",
    "def standard_transform(x, y):\n",
    "    std_scale = preprocessing.StandardScaler().fit(x)\n",
    "    x = std_scale.transform(x)\n",
    "    return x[:, :2], y\n"
   ]
  },
  {
   "cell_type": "code",
   "execution_count": null,
   "metadata": {},
   "outputs": [],
   "source": [
    "def main():\n",
    "    occ_attr, occ_class = split_data()\n",
    "    X, y = standard_transform(occ_attr, occ_class)\n",
    "    \n",
    "    #core function variation: linear & rbf\n",
    "    f, ax = plt.subplots(1, 2, sharex=True, sharey=True, figsize=(10,5))\n",
    "    for a,kernel in zip(ax, ('linear','rbf')):\n",
    "        svc = SVC(kernel=kernel, C=1,gamma=0.1).fit(X, y)\n",
    "        SVMUse(occ_attr, occ_class, kernel, 1, 0.1)\n",
    "        plotsDraw(X, y, svc, a)\n",
    "    ax[0].set_title('SVC Linear Kernel')\n",
    "    ax[1].set_title('SVC RBF Kernel')\n",
    "    plt.show()"
   ]
  },
  {
   "cell_type": "code",
   "execution_count": null,
   "metadata": {},
   "outputs": [],
   "source": [
    "from IPython.display import Image, display\n",
    "display(Image(filename='1.PNG', embed=True))"
   ]
  },
  {
   "cell_type": "code",
   "execution_count": null,
   "metadata": {},
   "outputs": [],
   "source": [
    " #regularization variation (C): 1, 10, 100, 1000\n",
    "    f, ax = plt.subplots(1, 4, sharex=True, sharey=True, figsize=(15,5))\n",
    "    for a,C in zip(ax, (1,10,100,1000)):\n",
    "        svc = SVC(kernel='rbf', C=C,gamma=0.1).fit(X, y)\n",
    "        SVMUse(occ_attr, occ_class, 'rbf', C, 0.1)\n",
    "        plotsDraw(X, y, svc, a)\n",
    "    ax[0].set_title('C = 1')\n",
    "    ax[1].set_title('C = 10')\n",
    "    ax[2].set_title('C = 100')\n",
    "    ax[3].set_title('C = 1000')\n",
    "    plt.show()\n",
    "    \n"
   ]
  },
  {
   "cell_type": "code",
   "execution_count": null,
   "metadata": {},
   "outputs": [],
   "source": [
    "from IPython.display import Image, display\n",
    "display(Image(filename='2.PNG', embed=True))"
   ]
  },
  {
   "cell_type": "code",
   "execution_count": null,
   "metadata": {},
   "outputs": [],
   "source": [
    "    #core coefficient variation (gamma): 0.1, 10, 100, 1000\n",
    "    f, ax = plt.subplots(1, 4, sharex=True, sharey=True, figsize=(15,5))\n",
    "    for a,gamma in zip(ax, (0.1,10,100,1000)):\n",
    "        svc = SVC(kernel='rbf', C=1,gamma=gamma).fit(X, y)\n",
    "        SVMUse(occ_attr, occ_class, 'rbf', 1, gamma)\n",
    "        plotsDraw(X, y, svc, a)\n",
    "    ax[0].set_title('RBF gamma = 0.1')\n",
    "    ax[1].set_title('RBF gamma = 10')\n",
    "    ax[2].set_title('RBF gamma = 100')\n",
    "    ax[3].set_title('RBF gamma = 1000')\n",
    "    plt.show()\n",
    "    \n",
    "main()"
   ]
  },
  {
   "cell_type": "code",
   "execution_count": null,
   "metadata": {},
   "outputs": [],
   "source": [
    "from IPython.display import Image, display\n",
    "display(Image(filename='3.PNG', embed=True))"
   ]
  },
  {
   "cell_type": "raw",
   "metadata": {},
   "source": [
    "Согласно результатам, полученным в ходе лабораторной работы, можно сделать вывод о том, что на исследуемом датасете наилучшую точность продемонстрировал  метод SVC с rbf ядром. Так, увеличение параметра ширины регуляризации C повышало точность и наилучший результат = 75.93%, а с повышением коэффициента ядра gamma точность снижалась, наихудшая точность = 33.33%.\n"
   ]
  }
 ],
 "metadata": {
  "celltoolbar": "Edit Metadata",
  "kernelspec": {
   "display_name": "Python 2",
   "language": "python",
   "name": "python2"
  },
  "language_info": {
   "codemirror_mode": {
    "name": "ipython",
    "version": 2
   },
   "file_extension": ".py",
   "mimetype": "text/x-python",
   "name": "python",
   "nbconvert_exporter": "python",
   "pygments_lexer": "ipython2",
   "version": "2.7.11"
  }
 },
 "nbformat": 4,
 "nbformat_minor": 2
}

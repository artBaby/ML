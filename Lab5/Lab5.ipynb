{
 "cells": [
  {
   "cell_type": "code",
   "execution_count": null,
   "metadata": {},
   "outputs": [],
   "source": [
    "import numpy as np\n",
    "from sklearn.naive_bayes import GaussianNB\n",
    "from sklearn.discriminant_analysis import LinearDiscriminantAnalysis as LDA\n",
    "from sklearn.model_selection import cross_val_score\n",
    "from sklearn import cross_validation\n",
    "from sklearn.preprocessing import label_binarize\n",
    "from sklearn.metrics import confusion_matrix\n",
    "from sklearn.metrics import classification_report\n",
    "\n",
    "dataset = np.loadtxt(open(\"data.csv\",\"r\"), delimiter=\",\", skiprows=0)\n",
    "X = dataset[:,1:]\n",
    "y =  (dataset[:,0]).astype(np.int64, copy=False) \n",
    "kFold=cross_validation.KFold(n=len(X),n_folds=10, random_state=7, shuffle=True)"
   ]
  },
  {
   "cell_type": "code",
   "execution_count": null,
   "metadata": {},
   "outputs": [],
   "source": [
    "#Accuracy\n",
    "print(\"Accuracy of methods:\")\n",
    "lda=LDA()\n",
    "result = cross_val_score(lda, X, y, cv=kFold, scoring='accuracy')\n",
    "#print(\" - LDA: %0.5f (%0.5f)\" % (result.mean(), result.std() ))\n",
    "print(\" LDA:\")\n",
    "print (\" - mean: %0.5f\" % result.mean())\n",
    "print (\" - standart deviation: %0.5f\" % result.std())\n",
    "gnb = GaussianNB()\n",
    "result = cross_val_score(gnb, X, y, cv=kFold, scoring='accuracy')\n",
    "print(\" Gaussian:\")\n",
    "print (\" - mean: %0.5f\" % result.mean())\n",
    "print (\" - standart deviation: %0.5f\" % result.std())"
   ]
  },
  {
   "cell_type": "code",
   "execution_count": null,
   "metadata": {},
   "outputs": [],
   "source": [
    "#Logarithmic Loss\n",
    "print(\"Logarithmic Loss Results:\")\n",
    "result = cross_validation.cross_val_score(lda, X, y, cv=kFold, scoring='neg_log_loss')\n",
    "print(\" LDA:\")\n",
    "print (\" - mean: %0.5f\" % result.mean())\n",
    "print (\" - standart deviation: %0.5f\" % result.std())\n",
    "result = cross_validation.cross_val_score(gnb, X, y, cv=kFold, scoring='neg_log_loss')\n",
    "print(\" Gaussian:\")\n",
    "print (\" - mean: %0.5f\" % result.mean())\n",
    "print (\" - standart deviation: %0.5f\" % result.std())"
   ]
  },
  {
   "cell_type": "code",
   "execution_count": null,
   "metadata": {},
   "outputs": [],
   "source": [
    "#Area Under ROC Curve\n",
    "print(\"Area Under ROC Curve Results: \")\n",
    "result = cross_validation.cross_val_score(lda, X, y, cv=kFold, scoring='roc_auc')\n",
    "print(\" LDA:\")\n",
    "print (\" - mean: %0.5f\" % result.mean())\n",
    "print (\" - standart deviation: %0.5f\" % result.std())\n",
    "result = cross_validation.cross_val_score(gnb, X, y, cv=kFold, scoring='roc_auc')\n",
    "print(\" Gaussian: %0.5f (%0.5f)\" % (result.mean(), result.std() ))\n",
    "print (\" - mean: %0.5f\" % result.mean())\n",
    "print (\" - standart deviation: %0.5f\" % result.std())"
   ]
  },
  {
   "cell_type": "code",
   "execution_count": null,
   "metadata": {},
   "outputs": [],
   "source": [
    "#Confusion Matrix\n",
    "X_train, X_test, Y_train, Y_test = cross_validation.train_test_split(X, y, test_size=0.3, random_state=7)\n",
    "print(\"Confusion Matrixes:\")\n",
    "gnb.fit(X_train, Y_train)\n",
    "gnb_predicted = gnb.predict(X_test)\n",
    "gnb_matrix = confusion_matrix(Y_test, gnb_predicted)\n",
    "print(\" - GaussianNB:\")\n",
    "print(gnb_matrix)\n",
    "lda.fit(X_train,Y_train)\n",
    "lda_predicted=lda.predict(X_test)\n",
    "lda_matrix=confusion_matrix(Y_test,lda_predicted)\n",
    "print(\" - LDA:\")\n",
    "print(lda_matrix)"
   ]
  },
  {
   "cell_type": "code",
   "execution_count": null,
   "metadata": {},
   "outputs": [],
   "source": [
    "#Classification Report\n",
    "print(\"Classification Reports:\")\n",
    "lda_r=classification_report(Y_test,lda_predicted)\n",
    "print(' - LDA:')\n",
    "print(lda_r)\n",
    "gaus_r=classification_report(Y_test,gnb_predicted)\n",
    "print(\" - GaussianNB:\")\n",
    "print(gaus_r)"
   ]
  },
  {
   "cell_type": "markdown",
   "metadata": {},
   "source": [
    "Accuracy of methods:\n",
    " LDA:\n",
    " - mean: 1.00000\n",
    " - standart deviation: 0.00000\n",
    " Gaussian:\n",
    " - mean: 0.98462\n",
    " - standart deviation: 0.03077\n",
    "Logarithmic Loss Results:\n",
    " LDA:\n",
    " - mean: -0.01022\n",
    " - standart deviation: 0.01030\n",
    " Gaussian:\n",
    " - mean: -0.08955\n",
    " - standart deviation: 0.16711\n",
    "Area Under ROC Curve Results:\n",
    " LDA:\n",
    " - mean: 1.00000\n",
    " - standart deviation: 0.00000\n",
    " Gaussian: 1.00000 (0.00000)\n",
    " - mean: 1.00000\n",
    " - standart deviation: 0.00000\n",
    "Confusion Matrixes:\n",
    " - GaussianNB:\n",
    " [13  0  0]\n",
    " [ 0 24  0]\n",
    " [ 0  0 17]\n",
    " - LDA:\n",
    " [13  0  0]\n",
    " [ 0 23  1]\n",
    " [ 0  0 17]\n",
    "Classification Reports:\n",
    " - LDA:\n",
    "             precision    recall  f1-score   support\n",
    "\n",
    "          1       1.00      1.00      1.00        13\n",
    "          2       1.00      0.96      0.98        24\n",
    "          3       0.94      1.00      0.97        17\n",
    "\n",
    "avg / total       0.98      0.98      0.98        54\n",
    "\n",
    " - GaussianNB:\n",
    "             precision    recall  f1-score   support\n",
    "\n",
    "          1       1.00      1.00      1.00        13\n",
    "          2       1.00      1.00      1.00        24\n",
    "          3       1.00      1.00      1.00        17\n",
    "\n",
    "avg / total       1.00      1.00      1.00        54\n"
   ]
  },
  {
   "cell_type": "markdown",
   "metadata": {},
   "source": [
    "Согласно данным, полученным в ходе лабораторной работы, можно сделать вывод о высокой точности результатов, предоставляемых методами, и имеющих малую погрешность. Основываясь на матрице ошибок получено значение точности (precision), равное 0.98, а также полноты (recall), также равное 0.98. Эти значения подтверждают высокое качество получаемых результатов."
   ]
  }
 ],
 "metadata": {
  "kernelspec": {
   "display_name": "Python 3",
   "language": "python",
   "name": "python3"
  },
  "language_info": {
   "codemirror_mode": {
    "name": "ipython",
    "version": 2
   },
   "file_extension": ".py",
   "mimetype": "text/x-python",
   "name": "python",
   "nbconvert_exporter": "python",
   "pygments_lexer": "ipython2",
   "version": "2.7.11"
  }
 },
 "nbformat": 4,
 "nbformat_minor": 2
}
